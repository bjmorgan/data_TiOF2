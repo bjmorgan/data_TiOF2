{
 "cells": [
  {
   "cell_type": "code",
   "execution_count": 1,
   "metadata": {},
   "outputs": [],
   "source": [
    "from pymatgen.io.vasp import Poscar\n",
    "import pandas as pd\n",
    "from polyhedral_analysis.configuration import Configuration\n",
    "from polyhedral_analysis.polyhedra_recipe import PolyhedraRecipe\n",
    "from polyhedral_analysis.octahedral_analysis import opposite_vertex_pairs\n",
    "from polyhedral_analysis.utils import flatten\n",
    "from collections import Counter\n",
    "from tqdm import tqdm_notebook\n",
    "from scipy.stats import gaussian_kde\n",
    "import numpy as np\n",
    "import os\n",
    "\n",
    "import matplotlib.pyplot as plt\n",
    "%matplotlib inline\n",
    "%config InlineBackend.figure_format = 'retina'"
   ]
  },
  {
   "cell_type": "code",
   "execution_count": 2,
   "metadata": {},
   "outputs": [],
   "source": [
    "recipe = PolyhedraRecipe( method='distance cutoff', \n",
    "                          coordination_cutoff=3.0, \n",
    "                          central_atoms='Ti',\n",
    "                          vertex_atoms=['O','F'] )"
   ]
  },
  {
   "cell_type": "code",
   "execution_count": 3,
   "metadata": {},
   "outputs": [],
   "source": [
    "# load all `bsym` generated DFT-optimised poscars"
   ]
  },
  {
   "cell_type": "code",
   "execution_count": 4,
   "metadata": {},
   "outputs": [],
   "source": [
    "class Config():\n",
    "    \n",
    "    def __init__(self, structure, config_id, energy):\n",
    "        self.structure = structure\n",
    "        self.config_id = config_id\n",
    "        self.energy = energy\n",
    "        self.config = Configuration( structure=structure, recipes=[recipe] )\n",
    "        \n",
    "    def non_f4o2(self):\n",
    "        count = 0\n",
    "        for p in self.config.polyhedra:\n",
    "            coord_count = Counter([ v.label for v in p.vertices ])\n",
    "            if coord_count['F'] != 4:\n",
    "                count += 1\n",
    "        return count\n",
    "    \n",
    "    def collinear_oxygen(self):\n",
    "        count = 0\n",
    "        for p in self.config.polyhedra:\n",
    "            vertex_pairs = opposite_vertex_pairs( p, check=False )\n",
    "            for vp in vertex_pairs:\n",
    "                if set( [ vp[0].label, vp[1].label ] ) == {'O'}:\n",
    "                    count += 1\n",
    "        return count\n",
    "    \n",
    "    def bond_lengths(self):\n",
    "        distances = { 'O': [], 'F': [] }\n",
    "        for p in self.config.polyhedra:\n",
    "            for d, l in p.vertex_distances( vertex_labels=True ):\n",
    "                distances[l].append( d )\n",
    "        return distances"
   ]
  },
  {
   "cell_type": "code",
   "execution_count": 6,
   "metadata": {},
   "outputs": [],
   "source": [
    "energies = pd.read_csv('../cluster_predictions/energies.out', delim_whitespace=True, names=['config_id', 'energy', 'dft_energy'])\n",
    "energies.sort_values('config_id', inplace=True, )"
   ]
  },
  {
   "cell_type": "code",
   "execution_count": 8,
   "metadata": {},
   "outputs": [
    {
     "data": {
      "application/vnd.jupyter.widget-view+json": {
       "model_id": "56b87115a62d4dcc8f9ab4c41b74c7d2",
       "version_major": 2,
       "version_minor": 0
      },
      "text/plain": [
       "HBox(children=(IntProgress(value=0, max=2664), HTML(value='')))"
      ]
     },
     "metadata": {},
     "output_type": "display_data"
    },
    {
     "name": "stdout",
     "output_type": "stream",
     "text": [
      "\n",
      "Read 65 POSCAR files\n"
     ]
    }
   ],
   "source": [
    "configs = []\n",
    "for i in tqdm_notebook(range(2664)):\n",
    "    filename = f'../2x2x2_vasp_calculations/config_{i:04d}/POSCAR'.format(i)\n",
    "    if os.path.isfile( filename ):\n",
    "        structure = Poscar.from_file(filename).structure\n",
    "        energy = energies.iloc[i].energy\n",
    "        configs.append(Config(structure, i, energy))\n",
    "print( 'Read {} POSCAR files'.format(len(configs)))"
   ]
  },
  {
   "cell_type": "markdown",
   "metadata": {},
   "source": [
    "For each DFT optimised 2&times;2&times;2 TiOF2 configuration, calculate the range of Ti–F and Ti–O distances and plot this range, plus the means of both sets of distances, versus the cluster-expansion–predicted energy."
   ]
  },
  {
   "cell_type": "code",
   "execution_count": 9,
   "metadata": {},
   "outputs": [
    {
     "data": {
      "image/png": "[encoded data removed]",
      "text/plain": [
       "<Figure size 432x288 with 1 Axes>"
      ]
     },
     "metadata": {
      "image/png": {
       "height": 269,
       "width": 413
      },
      "needs_background": "light"
     },
     "output_type": "display_data"
    }
   ],
   "source": [
    "import matplotlib.font_manager as fm\n",
    "import matplotlib\n",
    "import figure_formatting\n",
    "\n",
    "matplotlib.rc('font', family='serif') \n",
    "# matplotlib.rc('font', serif='Helvetica') \n",
    "matplotlib.rc('text', usetex='true') \n",
    "matplotlib.font_manager._rebuild()\n",
    "matplotlib.rc('font', size=15)\n",
    "\n",
    "\n",
    "f_bond_data = []\n",
    "o_bond_data = []\n",
    "for c in configs:\n",
    "    bond_lengths = c.bond_lengths()\n",
    "    mean_tif_distance = np.mean(bond_lengths['F'])\n",
    "    mean_tio_distance = np.mean(bond_lengths['O'])\n",
    "    tif_lower = mean_tif_distance - min(bond_lengths['F'])\n",
    "    tif_upper = max(bond_lengths['F']) - mean_tif_distance\n",
    "    tio_lower = mean_tio_distance - min(bond_lengths['O'])\n",
    "    tio_upper = max(bond_lengths['O']) - mean_tio_distance\n",
    "    plt.errorbar( c.energy, mean_tif_distance, yerr=[[tif_lower],[tif_upper]], \n",
    "                 fmt='o', c='cadetblue', ecolor='cadetblue', elinewidth=0.3 )\n",
    "    plt.errorbar( c.energy, mean_tio_distance, yerr=[[tio_lower],[tio_upper]], \n",
    "                 fmt='o', c='lightsalmon', ecolor='lightsalmon', elinewidth=0.3 )\n",
    "#     print( np.std(bond_lengths['F']), np.std(bond_lengths['O']) )\n",
    "plt.plot( c.energy, mean_tif_distance, label=r'Ti--F', color='cadetblue')\n",
    "plt.plot( c.energy, mean_tio_distance, label=r'Ti--O', color='lightsalmon')\n",
    "plt.legend()\n",
    "plt.xlabel('energy [eV]')\n",
    "plt.ylabel(r'$r($Ti--$X)$')\n",
    "plt.tight_layout()\n",
    "plt.savefig('TiOF2_Ti-X_distances.pdf')\n",
    "plt.show()"
   ]
  }
 ],
 "metadata": {
  "kernelspec": {
   "display_name": "Python 3",
   "language": "python",
   "name": "python3"
  },
  "language_info": {
   "codemirror_mode": {
    "name": "ipython",
    "version": 3
   },
   "file_extension": ".py",
   "mimetype": "text/x-python",
   "name": "python",
   "nbconvert_exporter": "python",
   "pygments_lexer": "ipython3",
   "version": "3.7.0"
  }
 },
 "nbformat": 4,
 "nbformat_minor": 2
}
