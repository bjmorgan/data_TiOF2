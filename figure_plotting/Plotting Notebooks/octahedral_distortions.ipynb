{
 "cells": [
  {
   "cell_type": "code",
   "execution_count": 1,
   "id": "bb62e101",
   "metadata": {},
   "outputs": [],
   "source": [
    "from polyhedral_analysis.polyhedra_recipe import PolyhedraRecipe\n",
    "from polyhedral_analysis.octahedral_analysis import trans_vector_orthogonality, opposite_vertex_pairs, adjacent_vertex_pairs\n",
    "from polyhedral_analysis.configuration import Configuration\n",
    "from polyhedral_analysis.atom import Atom\n",
    "\n",
    "from pymatgen.core import Structure\n",
    "from collections import Counter\n",
    "import vg\n",
    "\n",
    "from itertools import permutations\n",
    "\n",
    "from figure_formatting import figure_formatting as ff\n",
    "\n",
    "ff.set_formatting()\n",
    "\n",
    "colors = {'blue': '#264653',\n",
    "          'green': '#2A9D8F',\n",
    "          'yellow': '#E9C46A',\n",
    "          'light orange': '#F4A261',\n",
    "          'dark orange': '#E76F51',\n",
    "          'pink': '#F3B6A5'}\n",
    "\n",
    "from scipy.stats import binom\n",
    "import numpy as np\n",
    "\n",
    "import matplotlib.pyplot as plt\n",
    "%matplotlib inline\n",
    "%config InlineBackend.figure_format='retina'\n",
    "\n",
    "from scipy.stats import gaussian_kde"
   ]
  },
  {
   "cell_type": "code",
   "execution_count": 2,
   "id": "457cca04",
   "metadata": {},
   "outputs": [],
   "source": [
    "file_paths = [f'../../structure_prediction_dataset/vasp_4x4x4_from_ga/config_{i}/cubic/cp2k_opt/cp2k_opt.cif'\n",
    "              for i in [1,2,3,4]]"
   ]
  },
  {
   "cell_type": "code",
   "execution_count": 3,
   "id": "5d0780ce",
   "metadata": {},
   "outputs": [
    {
     "name": "stdout",
     "output_type": "stream",
     "text": [
      "1\n",
      "1\n",
      "1\n",
      "1\n"
     ]
    }
   ],
   "source": [
    "structures = [Structure.from_file(f) for f in file_paths]"
   ]
  },
  {
   "cell_type": "code",
   "execution_count": 4,
   "id": "63d9103f",
   "metadata": {},
   "outputs": [],
   "source": [
    "recipe = PolyhedraRecipe(method='distance cutoff',\n",
    "                         coordination_cutoff=3.0,\n",
    "                         central_atoms='Ti',\n",
    "                         vertex_atoms=['O', 'F'])"
   ]
  },
  {
   "cell_type": "code",
   "execution_count": 5,
   "id": "d73aa668",
   "metadata": {},
   "outputs": [],
   "source": [
    "configs = [Configuration(structure=s, recipes=[recipe]) for s in structures]"
   ]
  },
  {
   "cell_type": "code",
   "execution_count": 6,
   "id": "136881c7",
   "metadata": {},
   "outputs": [],
   "source": [
    "def mad(d: list[float]) -> float:\n",
    "    d_mean = np.mean(d)\n",
    "    return np.mean(np.absolute(d - d_mean))"
   ]
  },
  {
   "cell_type": "code",
   "execution_count": 7,
   "id": "98c4d4d3",
   "metadata": {},
   "outputs": [
    {
     "name": "stdout",
     "output_type": "stream",
     "text": [
      "\t\tTi–F\t\t\t\t\tTi–O\n",
      "structure\td_max\td_min\t<d>\t<|d-<d>|>\td_max\td_min\t<d>\t<|d-<d>|>\n",
      "1\t\t2.162\t1.879\t1.989\t0.056\t\t1.909\t1.740\t1.810\t0.033\n",
      "2\t\t2.171\t1.864\t1.985\t0.057\t\t1.934\t1.725\t1.812\t0.045\n",
      "3\t\t2.136\t1.858\t1.988\t0.050\t\t1.890\t1.750\t1.810\t0.025\n",
      "4\t\t2.158\t1.878\t1.984\t0.053\t\t1.917\t1.733\t1.811\t0.034\n",
      "Average\t\t2.157\t1.870\t1.987\t0.054\t\t1.913\t1.737\t1.811\t0.034\n",
      "\t\tx–F\t\t\t\t\tx–O\n",
      "structure\td_max\td_min\t<d>\t<|d-<d>|>\td_max\td_min\t<d>\t<|d-<d>|>\n",
      "1\t\t1.956\t1.850\t1.912\t0.019\t\t1.983\t1.896\t1.939\t0.015\n",
      "2\t\t1.958\t1.841\t1.907\t0.020\t\t1.995\t1.906\t1.942\t0.016\n",
      "3\t\t1.970\t1.849\t1.911\t0.020\t\t1.977\t1.897\t1.939\t0.013\n",
      "4\t\t1.969\t1.831\t1.907\t0.019\t\t1.990\t1.906\t1.941\t0.013\n",
      "Average\t\t1.963\t1.843\t1.909\t0.020\t\t1.987\t1.901\t1.940\t0.014\n"
     ]
    }
   ],
   "source": [
    "print('\\t\\tTi–F\\t\\t\\t\\t\\tTi–O')\n",
    "print('structure\\td_max\\td_min\\t<d>\\t<|d-<d>|>\\td_max\\td_min\\t<d>\\t<|d-<d>|>')\n",
    "output = []\n",
    "for i, c in enumerate(configs, 1):\n",
    "    r_Ti_X = {'F': [],\n",
    "              'O': []}\n",
    "    for p in c.polyhedra:\n",
    "        for d, l in p.vertex_distances_and_labels(reference='central_atom'):\n",
    "            r_Ti_X[l].append(d)\n",
    "    dF = r_Ti_X['F']\n",
    "    dO = r_Ti_X['O']\n",
    "\n",
    "    print(f'{i}\\t\\t'\n",
    "          f'{max(dF):.3f}\\t{min(dF):.3f}\\t{np.mean(dF):.3f}\\t{mad(dF):.3f}\\t\\t'\n",
    "          f'{max(dO):.3f}\\t{min(dO):.3f}\\t{np.mean(dO):.3f}\\t{mad(dO):.3f}')\n",
    "    output.append([max(dF), min(dF), np.mean(dF), mad(dF), max(dO), min(dO), np.mean(dO), mad(dO)])\n",
    "average = np.mean(output, axis=0)\n",
    "print(f'Average\\t\\t{average[0]:.3f}\\t{average[1]:.3f}\\t{average[2]:.3f}\\t{average[3]:.3f}\\t\\t'\n",
    "      f'{average[4]:.3f}\\t{average[5]:.3f}\\t{average[6]:.3f}\\t{average[7]:.3f}')\n",
    "\n",
    "print('\\t\\tx–F\\t\\t\\t\\t\\tx–O')\n",
    "print('structure\\td_max\\td_min\\t<d>\\t<|d-<d>|>\\td_max\\td_min\\t<d>\\t<|d-<d>|>')\n",
    "output = []\n",
    "for i, c in enumerate(configs, 1):\n",
    "    r_centroid_X = {'F': [],\n",
    "                    'O': []}\n",
    "    for p in c.polyhedra:\n",
    "        for d, l in p.vertex_distances_and_labels(reference='central_atom'):\n",
    "            r_Ti_X[l].append(d)\n",
    "        for d, l in p.vertex_distances_and_labels(reference='centroid'):\n",
    "            r_centroid_X[l].append(d)\n",
    "    dF = r_centroid_X['F']\n",
    "    dO = r_centroid_X['O']\n",
    "\n",
    "    print(f'{i}\\t\\t'\n",
    "          f'{max(dF):.3f}\\t{min(dF):.3f}\\t{np.mean(dF):.3f}\\t{mad(dF):.3f}\\t\\t'\n",
    "          f'{max(dO):.3f}\\t{min(dO):.3f}\\t{np.mean(dO):.3f}\\t{mad(dO):.3f}')\n",
    "    output.append([max(dF), min(dF), np.mean(dF), mad(dF), max(dO), min(dO), np.mean(dO), mad(dO)])\n",
    "average = np.mean(output, axis=0)\n",
    "print(f'Average\\t\\t{average[0]:.3f}\\t{average[1]:.3f}\\t{average[2]:.3f}\\t{average[3]:.3f}\\t\\t'\n",
    "      f'{average[4]:.3f}\\t{average[5]:.3f}\\t{average[6]:.3f}\\t{average[7]:.3f}')\n"
   ]
  },
  {
   "cell_type": "code",
   "execution_count": 8,
   "id": "7ab0b0ce",
   "metadata": {},
   "outputs": [],
   "source": [
    "def adjacent_ti_ti_angle(atom: Atom) -> float:\n",
    "    assert(len(atom.in_polyhedra) == 2)\n",
    "    p1, p2 = atom.in_polyhedra\n",
    "    p1_vertex_index = p1.vertex_internal_index_from_global_index(atom.index)\n",
    "    p2_vertex_index = p2.vertex_internal_index_from_global_index(atom.index)\n",
    "    v1 = p1.vertex_vectors(reference='central_atom')[p1_vertex_index]\n",
    "    v2 = p2.vertex_vectors(reference='central_atom')[p2_vertex_index]\n",
    "    angle = vg.angle(v1, v2)\n",
    "    return angle\n",
    "\n",
    "def mean_ti_x_ti_angles(configuration: Configuration) -> dict[str: float]:\n",
    "    ti_o_ti_angles = []\n",
    "    ti_f_ti_angles = []\n",
    "    for atom in c.atoms:\n",
    "        match atom.label:\n",
    "            case 'O':\n",
    "                ti_o_ti_angles.append(adjacent_ti_ti_angle(atom))\n",
    "            case 'F':\n",
    "                ti_f_ti_angles.append(adjacent_ti_ti_angle(atom))\n",
    "            case 'Ti':\n",
    "                pass\n",
    "    return {'F': np.mean(ti_f_ti_angles),\n",
    "            'O': np.mean(ti_o_ti_angles)}"
   ]
  },
  {
   "cell_type": "code",
   "execution_count": 10,
   "id": "95e8140d",
   "metadata": {},
   "outputs": [
    {
     "name": "stdout",
     "output_type": "stream",
     "text": [
      "\t\tX–Ti–X angular distortions\tX-×-X angular distortions\tTi–X–Ti angles\t\t\tTi displacment\n",
      "structure\t<|90°-XX|>\t<|180°-XX|>\t<|90°-XX|>\t<|180°-XX|>\t<|Ti–F–Ti|>\t<|Ti–O–Ti|>\t<|×--Ti|>\n",
      "1\t\t4.75\t\t10.17\t\t0.90\t\t1.44\t\t155.24\t\t157.94\t\t0.20\n",
      "2\t\t5.00\t\t10.33\t\t0.81\t\t1.47\t\t170.10\t\t172.53\t\t0.21\n",
      "3\t\t4.68\t\t10.15\t\t0.80\t\t1.35\t\t154.77\t\t157.34\t\t0.20\n",
      "4\t\t4.78\t\t10.25\t\t0.86\t\t1.64\t\t170.45\t\t172.54\t\t0.20\n",
      "Average\t\t4.80\t\t10.23\t\t0.85\t\t1.471\t\t162.64\t\t165.09\t\t0.20\n"
     ]
    }
   ],
   "source": [
    "print('\\t\\tX–Ti–X angular distortions\\tX-×-X angular distortions\\tTi–X–Ti angles\\t\\t\\tTi displacment')\n",
    "print('structure\\t<|90°-XX|>\\t<|180°-XX|>\\t<|90°-XX|>\\t<|180°-XX|>\\t<|Ti–F–Ti|>\\t<|Ti–O–Ti|>\\t<|×--Ti|>')\n",
    "output = []\n",
    "for i, c in enumerate(configs, 1):\n",
    "    cis_angles_centre = []\n",
    "    trans_angles_centre = []\n",
    "    cis_angles_centroid = []\n",
    "    trans_angles_centroid = []\n",
    "    off_centre_displacements = []\n",
    "    for p in c.polyhedra:\n",
    "        ovp = [[v1.index, v2.index] for v1, v2 in opposite_vertex_pairs(p, check=False)]\n",
    "        trans_angles_centre.extend(p.vertex_angles(ovp, reference='central_atom'))\n",
    "        trans_angles_centroid.extend(p.vertex_angles(ovp, reference='centroid'))\n",
    "        avp = [[v1.index, v2.index] for v1, v2 in adjacent_vertex_pairs(p,check=False)] \n",
    "        cis_angles_centre.extend(p.vertex_angles(avp, reference='central_atom'))\n",
    "        cis_angles_centroid.extend(p.vertex_angles(avp, reference='centroid'))\n",
    "        off_centre_displacements.append(p.off_centre_displacement)\n",
    "    ti_x_ti_angles = mean_ti_x_ti_angles(c)\n",
    "    print(f'{i}\\t\\t'\n",
    "          f'{np.mean(np.absolute(90-np.array(cis_angles_centre))):.2f}\\t\\t'\n",
    "          f'{np.mean(np.absolute(180-np.array(trans_angles_centre))):.2f}\\t\\t'\n",
    "          f'{np.mean(np.absolute(90-np.array(cis_angles_centroid))):.2f}\\t\\t'\n",
    "          f'{np.mean(np.absolute(180-np.array(trans_angles_centroid))):.2f}\\t\\t'\n",
    "          f'{ti_x_ti_angles[\"F\"]:.2f}\\t\\t{ti_x_ti_angles[\"O\"]:.2f}\\t\\t'\n",
    "          f'{np.mean(off_centre_displacements):.2f}')\n",
    "    output.append([np.mean(np.absolute(90-np.array(cis_angles_centre))),\n",
    "                   np.mean(np.absolute(180-np.array(trans_angles_centre))),\n",
    "                   np.mean(np.absolute(90-np.array(cis_angles_centroid))),\n",
    "                   np.mean(np.absolute(180-np.array(trans_angles_centroid))),\n",
    "                   ti_x_ti_angles[\"F\"], ti_x_ti_angles[\"O\"],\n",
    "                   np.mean(off_centre_displacements)])\n",
    "average = np.mean(output, axis=0)\n",
    "print(f'Average\\t\\t{average[0]:.2f}\\t\\t{average[1]:.2f}\\t\\t{average[2]:.2f}\\t\\t{average[3]:.3f}\\t\\t'\n",
    "      f'{average[4]:.2f}\\t\\t{average[5]:.2f}\\t\\t{average[6]:.2f}')"
   ]
  },
  {
   "cell_type": "code",
   "execution_count": 49,
   "id": "35b9e13d",
   "metadata": {},
   "outputs": [
    {
     "name": "stdout",
     "output_type": "stream",
     "text": [
      "\t\tF–F\t\t\t\t\tF–O\t\t\t\t\tO–O\n",
      "structure\td_max\td_min\t<d>\t<|d-<d>|>\td_max\td_min\t<d>\t<|d-<d>|>\td_max\td_min\t<d>\t<|d-<d>|>\n",
      "1\t\t 2.80\t 2.60\t 2.69\t 0.028\t\t 2.82\t 2.64\t 2.74\t 0.023\t\t 2.80\t 2.69\t 2.74\t 0.016\t\t\n",
      "2\t\t 2.76\t 2.58\t 2.68\t 0.023\t\t 2.82\t 2.66\t 2.74\t 0.022\t\t 2.79\t 2.70\t 2.74\t 0.015\t\t\n",
      "3\t\t 2.78\t 2.59\t 2.69\t 0.025\t\t 2.80\t 2.65\t 2.74\t 0.023\t\t 2.78\t 2.71\t 2.74\t 0.014\t\t\n",
      "4\t\t 2.77\t 2.56\t 2.68\t 0.025\t\t 2.83\t 2.66\t 2.74\t 0.023\t\t 2.79\t 2.70\t 2.74\t 0.014\t\t\n",
      "Average\t\t 2.78\t 2.58\t 2.68\t 0.025\t\t 2.82\t 2.66\t 2.74\t 0.023\t\t 2.79\t 2.70\t 2.74\t 0.015\n"
     ]
    }
   ],
   "source": [
    "output = []\n",
    "\n",
    "print('\\t\\tF–F\\t\\t\\t\\t\\tF–O\\t\\t\\t\\t\\tO–O')\n",
    "print('structure\\td_max\\td_min\\t<d>\\t<|d-<d>|>\\td_max\\td_min\\t<d>\\t<|d-<d>|>\\td_max\\td_min\\t<d>\\t<|d-<d>|>')\n",
    "for i, c in enumerate(configs, 1):\n",
    "    d_XX = {'F': {'F': [],\n",
    "                  'O': []},\n",
    "            'O': {'O': []}}\n",
    "    for p in c.polyhedra:\n",
    "        for v1, v2 in adjacent_vertex_pairs(p, check=False):\n",
    "            l1, l2 = sorted([v1.label, v2.label])\n",
    "            d_XX[l1][l2].append(v1.distance(v2))\n",
    "    print(f'{i}\\t\\t',\n",
    "          f'{max(d_XX[\"F\"][\"F\"]):.2f}\\t',\n",
    "          f'{min(d_XX[\"F\"][\"F\"]):.2f}\\t',\n",
    "          f'{np.mean(d_XX[\"F\"][\"F\"]):.2f}\\t',\n",
    "          f'{mad(d_XX[\"F\"][\"F\"]):.3f}\\t\\t',\n",
    "          f'{max(d_XX[\"F\"][\"O\"]):.2f}\\t',\n",
    "          f'{min(d_XX[\"F\"][\"O\"]):.2f}\\t',\n",
    "          f'{np.mean(d_XX[\"F\"][\"O\"]):.2f}\\t',\n",
    "          f'{mad(d_XX[\"F\"][\"O\"]):.3f}\\t\\t',\n",
    "          f'{max(d_XX[\"O\"][\"O\"]):.2f}\\t',\n",
    "          f'{min(d_XX[\"O\"][\"O\"]):.2f}\\t',\n",
    "          f'{np.mean(d_XX[\"O\"][\"O\"]):.2f}\\t',\n",
    "          f'{mad(d_XX[\"O\"][\"O\"]):.3f}\\t\\t')\n",
    "    output.append([max(d_XX[\"F\"][\"F\"]), min(d_XX[\"F\"][\"F\"]), np.mean(d_XX[\"F\"][\"F\"]), mad(d_XX[\"F\"][\"F\"]),\n",
    "                   max(d_XX[\"F\"][\"O\"]), min(d_XX[\"F\"][\"O\"]), np.mean(d_XX[\"F\"][\"O\"]), mad(d_XX[\"F\"][\"O\"]),\n",
    "                   max(d_XX[\"O\"][\"O\"]), min(d_XX[\"O\"][\"O\"]), np.mean(d_XX[\"O\"][\"O\"]), mad(d_XX[\"O\"][\"O\"])])\n",
    "average = np.mean(output, axis=0)\n",
    "print('Average\\t\\t',\n",
    "      f'{average[0]:.2f}\\t',\n",
    "      f'{average[1]:.2f}\\t',\n",
    "      f'{average[2]:.2f}\\t',\n",
    "      f'{average[3]:.3f}\\t\\t',\n",
    "      f'{average[4]:.2f}\\t',\n",
    "      f'{average[5]:.2f}\\t',\n",
    "      f'{average[6]:.2f}\\t',      \n",
    "      f'{average[7]:.3f}\\t\\t',\n",
    "      f'{average[8]:.2f}\\t',\n",
    "      f'{average[9]:.2f}\\t',\n",
    "      f'{average[10]:.2f}\\t',\n",
    "      f'{average[11]:.3f}')"
   ]
  },
  {
   "cell_type": "code",
   "execution_count": 44,
   "id": "67f8cc86",
   "metadata": {},
   "outputs": [
    {
     "data": {
      "text/plain": [
       "0.02516566524356334"
      ]
     },
     "execution_count": 44,
     "metadata": {},
     "output_type": "execute_result"
    }
   ],
   "source": [
    "mad(d_XX['F']['F'])"
   ]
  },
  {
   "cell_type": "code",
   "execution_count": null,
   "id": "796f83ce",
   "metadata": {},
   "outputs": [],
   "source": []
  }
 ],
 "metadata": {
  "kernelspec": {
   "display_name": "Python 3 (ipykernel)",
   "language": "python",
   "name": "python3"
  },
  "language_info": {
   "codemirror_mode": {
    "name": "ipython",
    "version": 3
   },
   "file_extension": ".py",
   "mimetype": "text/x-python",
   "name": "python",
   "nbconvert_exporter": "python",
   "pygments_lexer": "ipython3",
   "version": "3.11.1"
  }
 },
 "nbformat": 4,
 "nbformat_minor": 5
}
