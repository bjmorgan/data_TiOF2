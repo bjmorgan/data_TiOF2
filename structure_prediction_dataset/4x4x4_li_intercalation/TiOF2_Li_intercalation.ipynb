{
 "cells": [
  {
   "cell_type": "code",
   "execution_count": 1,
   "metadata": {},
   "outputs": [],
   "source": [
    "import numpy as np\n",
    "import pandas as pd\n",
    "from scipy.stats import gaussian_kde\n",
    "import matplotlib.pyplot as plt\n",
    "%matplotlib inline\n",
    "%config InlineBackend.figure_format='retina'\n",
    "from vasppy.calculation import import_calculations_from_file\n",
    "\n",
    "from figure_formatting import figure_formatting as ff\n",
    "ff.formatting['axes.linewidth'] = 0.5\n",
    "ff.formatting['lines.linewidth'] = 1.0\n",
    "ff.set_formatting()"
   ]
  },
  {
   "cell_type": "code",
   "execution_count": 2,
   "metadata": {},
   "outputs": [],
   "source": [
    "colors = {'blue': '#264653',\n",
    "          'bluegreen': '#287271',\n",
    "          'green': '#2A9D8F',\n",
    "          'yellow': '#E9C46A',\n",
    "          'light orange': '#F4A261',\n",
    "          'dark orange': '#E76F51'}"
   ]
  },
  {
   "cell_type": "code",
   "execution_count": 3,
   "metadata": {},
   "outputs": [],
   "source": [
    "def bayesian_bootstrap(data, n_samples):\n",
    "    rng = np.random.default_rng()\n",
    "    return np.mean(data * rng.dirichlet(alpha=np.ones_like(data), size=n_samples)*len(data), axis=1)"
   ]
  },
  {
   "cell_type": "code",
   "execution_count": 4,
   "metadata": {},
   "outputs": [
    {
     "data": {
      "text/html": [
       "<div>\n",
       "<style scoped>\n",
       "    .dataframe tbody tr th:only-of-type {\n",
       "        vertical-align: middle;\n",
       "    }\n",
       "\n",
       "    .dataframe tbody tr th {\n",
       "        vertical-align: top;\n",
       "    }\n",
       "\n",
       "    .dataframe thead th {\n",
       "        text-align: right;\n",
       "    }\n",
       "</style>\n",
       "<table border=\"1\" class=\"dataframe\">\n",
       "  <thead>\n",
       "    <tr style=\"text-align: right;\">\n",
       "      <th></th>\n",
       "      <th>row</th>\n",
       "      <th>intercalation_energy</th>\n",
       "      <th>label</th>\n",
       "    </tr>\n",
       "  </thead>\n",
       "  <tbody>\n",
       "    <tr>\n",
       "      <th>0</th>\n",
       "      <td>TiOF2-Li config 0 (cis)</td>\n",
       "      <td>-1.410146</td>\n",
       "      <td>cis</td>\n",
       "    </tr>\n",
       "    <tr>\n",
       "      <th>1</th>\n",
       "      <td>TiOF2-Li config 1 (cis)</td>\n",
       "      <td>-1.574963</td>\n",
       "      <td>cis</td>\n",
       "    </tr>\n",
       "    <tr>\n",
       "      <th>2</th>\n",
       "      <td>TiOF2-Li config 2 (cis)</td>\n",
       "      <td>-1.605590</td>\n",
       "      <td>cis</td>\n",
       "    </tr>\n",
       "    <tr>\n",
       "      <th>3</th>\n",
       "      <td>TiOF2-Li config 0 (sqs)</td>\n",
       "      <td>-3.519488</td>\n",
       "      <td>sqs</td>\n",
       "    </tr>\n",
       "    <tr>\n",
       "      <th>4</th>\n",
       "      <td>TiOF2-Li config 1 (sqs)</td>\n",
       "      <td>-2.751546</td>\n",
       "      <td>sqs</td>\n",
       "    </tr>\n",
       "    <tr>\n",
       "      <th>...</th>\n",
       "      <td>...</td>\n",
       "      <td>...</td>\n",
       "      <td>...</td>\n",
       "    </tr>\n",
       "    <tr>\n",
       "      <th>124</th>\n",
       "      <td>TiOF2-Li config 60</td>\n",
       "      <td>-2.374252</td>\n",
       "      <td>ga</td>\n",
       "    </tr>\n",
       "    <tr>\n",
       "      <th>125</th>\n",
       "      <td>TiOF2-Li config 61</td>\n",
       "      <td>-2.193883</td>\n",
       "      <td>ga</td>\n",
       "    </tr>\n",
       "    <tr>\n",
       "      <th>126</th>\n",
       "      <td>TiOF2-Li config 62</td>\n",
       "      <td>-2.444930</td>\n",
       "      <td>ga</td>\n",
       "    </tr>\n",
       "    <tr>\n",
       "      <th>127</th>\n",
       "      <td>TiOF2-Li config 63</td>\n",
       "      <td>-1.933075</td>\n",
       "      <td>ga</td>\n",
       "    </tr>\n",
       "    <tr>\n",
       "      <th>128</th>\n",
       "      <td>TiOF2-Li config 64</td>\n",
       "      <td>-2.282611</td>\n",
       "      <td>ga</td>\n",
       "    </tr>\n",
       "  </tbody>\n",
       "</table>\n",
       "<p>129 rows × 3 columns</p>\n",
       "</div>"
      ],
      "text/plain": [
       "                         row  intercalation_energy label\n",
       "0    TiOF2-Li config 0 (cis)             -1.410146   cis\n",
       "1    TiOF2-Li config 1 (cis)             -1.574963   cis\n",
       "2    TiOF2-Li config 2 (cis)             -1.605590   cis\n",
       "3    TiOF2-Li config 0 (sqs)             -3.519488   sqs\n",
       "4    TiOF2-Li config 1 (sqs)             -2.751546   sqs\n",
       "..                       ...                   ...   ...\n",
       "124       TiOF2-Li config 60             -2.374252    ga\n",
       "125       TiOF2-Li config 61             -2.193883    ga\n",
       "126       TiOF2-Li config 62             -2.444930    ga\n",
       "127       TiOF2-Li config 63             -1.933075    ga\n",
       "128       TiOF2-Li config 64             -2.282611    ga\n",
       "\n",
       "[129 rows x 3 columns]"
      ]
     },
     "execution_count": 4,
     "metadata": {},
     "output_type": "execute_result"
    }
   ],
   "source": [
    "def get_dict_entries(keys, full_dict):\n",
    "    \"\"\"\n",
    "    Return entry in a dictionary with a given key.\n",
    "    \"\"\"\n",
    "    return [full_dict[key] for key in keys][0]\n",
    "\n",
    "\n",
    "def calculate_intercalation_energy(entry, li_energy, ref):\n",
    "    \"\"\"\n",
    "    Calculate intercalation energy using the given entry and Li energy.\n",
    "    \"\"\"\n",
    "    return entry.energy - ref - li_energy * entry.stoichiometry[\"Li\"]\n",
    "\n",
    "\n",
    "def get_reference_energy(calc_dict):\n",
    "    \"\"\"\n",
    "    Get reference energy from the host structure in the set of all calculations.\n",
    "    \"\"\"\n",
    "    entry = [entry for entry in calc_dict.values() if \"Li\" not in entry.stoichiometry.keys()][0]\n",
    "    return entry.energy\n",
    "\n",
    "\n",
    "# Load data\n",
    "Li_dict = import_calculations_from_file(\"elemental_Li_vasp_summary.yaml\")\n",
    "ga_dict = import_calculations_from_file(\"vasp_summary_GA.yaml\", skip_incomplete_records=True)\n",
    "cis_dict = import_calculations_from_file(\"vasp_summary_cis.yaml\")\n",
    "sqs_dict = import_calculations_from_file(\"vasp_summary_sqs.yaml\")\n",
    "\n",
    "elemental_Li = get_dict_entries([\"elemental Li opt\"], Li_dict)\n",
    "Li_energy = elemental_Li.energy / elemental_Li.stoichiometry[\"Li\"]\n",
    "\n",
    "# Calculate reference energies\n",
    "cis_reference_energy = get_reference_energy(cis_dict)\n",
    "sqs_reference_energy = get_reference_energy(sqs_dict)\n",
    "ga_reference_energy = get_reference_energy(ga_dict)\n",
    "\n",
    "# Calculate and print intercalation energies\n",
    "records = []\n",
    "for calc_dict, ref, label in zip([cis_dict, sqs_dict, ga_dict], [cis_reference_energy, sqs_reference_energy, ga_reference_energy], [\"cis\", \"sqs\", \"ga\"]):\n",
    "    for key, entry in calc_dict.items():\n",
    "        if entry.stoichiometry[\"Li\"] == 0:\n",
    "            continue\n",
    "        intercalation_energy = calculate_intercalation_energy(entry, Li_energy, ref)\n",
    "        row = dict(row=key, intercalation_energy=intercalation_energy, label=label)\n",
    "        records.append(row)\n",
    "\n",
    "df = pd.DataFrame.from_records(records)\n",
    "df"
   ]
  },
  {
   "cell_type": "code",
   "execution_count": 5,
   "metadata": {},
   "outputs": [],
   "source": [
    "cis_energy = df[df.label == 'cis'].intercalation_energy.values\n",
    "ga_energy = df[df.label == 'ga'].intercalation_energy.values\n",
    "sqs_energy = df[df.label == 'sqs'].intercalation_energy.values"
   ]
  },
  {
   "cell_type": "code",
   "execution_count": 6,
   "metadata": {},
   "outputs": [
    {
     "data": {
      "image/png": "[encoded data removed]",
      "text/plain": [
       "<Figure size 400.05x247.65 with 1 Axes>"
      ]
     },
     "metadata": {
      "image/png": {
       "height": 256,
       "width": 385
      }
     },
     "output_type": "display_data"
    }
   ],
   "source": [
    "axes = plt.subplot(111)\n",
    "kde_vscale = 0.01\n",
    "baseline_offset = 0.35\n",
    "kde_threshold = 0.05\n",
    "e_range = np.linspace(-5.0, 0, 500)\n",
    "bandwidth = 0.04\n",
    "\n",
    "pcolors = {0: colors['dark orange'],\n",
    "           1: colors['light orange'],\n",
    "           2: colors['green']}\n",
    "\n",
    "v_scale = {0: 0.9,\n",
    "           1: 0.6,\n",
    "           2: 4.8}\n",
    "\n",
    "for n, data in enumerate([sqs_energy, ga_energy, cis_energy]):\n",
    "    axes.plot(data, np.full_like(data, n)*2 + np.random.random(size=len(data))*0.15,\n",
    "             'o',\n",
    "             color=pcolors[n],\n",
    "             markersize=2,\n",
    "             alpha=0.7, markeredgecolor=None, markeredgewidth=0.0)\n",
    "    kde = gaussian_kde(dataset=data,\n",
    "                       bw_method=bandwidth / data.std(ddof=1))\n",
    "    baseline = n*2 + baseline_offset\n",
    "    x_loc = np.where(kde(e_range) > 0)\n",
    "    axes.fill_between(e_range, kde(e_range)*kde_vscale*data.size*v_scale[n] + baseline, baseline,\n",
    "                     color=pcolors[n],\n",
    "                     where=kde(e_range)>kde_threshold, interpolate=False, linewidth=0.5, alpha=1, edgecolor=None)\n",
    "\n",
    "# plot mean values\n",
    "y_error_pos = []\n",
    "plt.vlines(np.mean(cis_energy), 5.35, 5.7, color=pcolors[2], linewidth=0.75)\n",
    "plt.vlines(np.mean(ga_energy), 3.35, 3.7, color=pcolors[1], linewidth=0.75)\n",
    "plt.vlines(np.mean(sqs_energy), 1.35, 1.7, color=pcolors[0], linewidth=0.75)\n",
    "# plot GA 95% confidence interval for mean using Bayesian bootstrap\n",
    "bb_ga = bayesian_bootstrap(data=ga_energy, n_samples=100000)\n",
    "plt.hlines(3.525, *np.percentile(bb_ga, [2.5, 97.5]), color=pcolors[1], linewidth=0.75, alpha=0.5)\n",
    "plt.vlines(np.percentile(bb_ga, [2.5, 97.5]), 3.45, 3.6, color=pcolors[1], linewidth=0.75, alpha=0.5)\n",
    "bb_sqs = bayesian_bootstrap(data=sqs_energy, n_samples=100000)\n",
    "plt.hlines(1.525, *np.percentile(bb_sqs, [2.5, 97.5]), color=pcolors[0], linewidth=0.75, alpha=0.5) \n",
    "plt.vlines(np.percentile(bb_sqs, [2.5, 97.5]), 1.45, 1.6, color=pcolors[0], linewidth=0.75, alpha=0.5)\n",
    "# plt.ylim([-1,7])\n",
    "axes.set_yticks([0.075, 2.075, 4.075])\n",
    "axes.set_yticklabels(['SQS','GA','all-cis'])\n",
    "# plt.ylabel('n(O–Ti–O)')\n",
    "plt.xlabel('intercalation energy / eV')\n",
    "axes.spines[['right', 'top', 'left']].set_visible(False)\n",
    "plt.hlines([0.075, 2.075, 4.075], -5.0, -1.0, color='grey', alpha=0.1)\n",
    "plt.xlim([-5, -1])\n",
    "axes.tick_params(axis='y', which='both',length=0)\n",
    "plt.savefig('Li_intercalation.pdf', dpi=300)\n",
    "plt.show()"
   ]
  },
  {
   "cell_type": "code",
   "execution_count": 7,
   "metadata": {},
   "outputs": [
    {
     "name": "stdout",
     "output_type": "stream",
     "text": [
      "-1.530233173333358 -2.435142047419457 -3.056789724531205\n"
     ]
    }
   ],
   "source": [
    "print(np.mean(cis_energy), np.mean(ga_energy), np.mean(sqs_energy))"
   ]
  },
  {
   "cell_type": "code",
   "execution_count": 10,
   "metadata": {},
   "outputs": [
    {
     "data": {
      "text/plain": [
       "array([-0.05324361,  0.05148083])"
      ]
     },
     "execution_count": 10,
     "metadata": {},
     "output_type": "execute_result"
    }
   ],
   "source": [
    "np.percentile(bb_ga, [2.5, 97.5])-np.mean(ga_energy)"
   ]
  },
  {
   "cell_type": "code",
   "execution_count": 11,
   "metadata": {},
   "outputs": [
    {
     "data": {
      "text/plain": [
       "array([-0.08941694,  0.08928822])"
      ]
     },
     "execution_count": 11,
     "metadata": {},
     "output_type": "execute_result"
    }
   ],
   "source": [
    "np.percentile(bb_sqs, [2.5, 97.5])-np.mean(bb_sqs)"
   ]
  },
  {
   "cell_type": "code",
   "execution_count": null,
   "metadata": {},
   "outputs": [],
   "source": []
  }
 ],
 "metadata": {
  "interpreter": {
   "hash": "89b753ff356a3aee657d5b1e355d20c7c6c68a1d22ccd5ebcf062a6c2a010345"
  },
  "kernelspec": {
   "display_name": "Python 3 (ipykernel)",
   "language": "python",
   "name": "python3"
  },
  "language_info": {
   "codemirror_mode": {
    "name": "ipython",
    "version": 3
   },
   "file_extension": ".py",
   "mimetype": "text/x-python",
   "name": "python",
   "nbconvert_exporter": "python",
   "pygments_lexer": "ipython3",
   "version": "3.11.1"
  }
 },
 "nbformat": 4,
 "nbformat_minor": 2
}
