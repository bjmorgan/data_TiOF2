{
 "cells": [
  {
   "cell_type": "markdown",
   "id": "0f2e4f3a",
   "metadata": {},
   "source": [
    "# &ldquo;OFFO&rdquo; 3&times;3&times;3 supercell generation\n",
    "\n",
    "This notebook generates 3&times;3&times;3 TiOF<sub>2</sub> supercells following the &ldquo;OFFO&rdquo;-type ordering proposed by Brink <i>et al.</i> for NbO<sub>2</sub>F [1] (and subsequently for TaO<sub>2</sub>F [2]).\n",
    "\n",
    "The supercells are generated so that each column has either a OFFO, FOFF, or FFOF sequence; i.e., on average, the oxygen and fluorine positions are uncorrelated between pairs of $\\left<001\\right>$ strings, as per the model of Brink <i>et al.</i> [1].\n",
    "\n",
    "[1] Brink <i>et al.</i> J. Sol. Stat. Chem. <b>166</b>, 73–80 (2002): [link](https://doi.org/10.1006/jssc.2002.9562)</br>\n",
    "[2] Morelock <i>et al.</i> Chem. Mater. <b>25</b>, 1900–1904 (2013): [link](https://.doi.org/10.1021/cm400536n)"
   ]
  },
  {
   "cell_type": "code",
   "execution_count": 1,
   "id": "bd33fa90",
   "metadata": {},
   "outputs": [],
   "source": [
    "import numpy as np\n",
    "from pymatgen.core import Structure, Lattice"
   ]
  },
  {
   "cell_type": "code",
   "execution_count": 2,
   "id": "7959ce84",
   "metadata": {},
   "outputs": [],
   "source": [
    "# Generate a reference ReO3-type 3x3x3 supercell\n",
    "\n",
    "lattice = Lattice.from_parameters(a=3.8076, b=3.8076, c=3.8076,\n",
    "                                  alpha=90.0, beta=90.0, gamma=90.0)\n",
    "\n",
    "s = Structure.from_spacegroup(sg='Pm-3m',\n",
    "                              lattice=lattice,\n",
    "                              species=('Ti', 'X'),\n",
    "                              coords=((0.0, 0.0, 0.0),\n",
    "                                      (0.0, 0.0, 0.5))) * (3,3,3)"
   ]
  },
  {
   "cell_type": "code",
   "execution_count": 3,
   "id": "3fe79abb",
   "metadata": {},
   "outputs": [],
   "source": [
    "def align_coords(c: np.array) -> np.array:\n",
    "    \"\"\"Rounds an array of floats to 3 decimal places,\n",
    "    and returns the remainder if diving by 1.0\n",
    "    \n",
    "    Args:\n",
    "        c (np.ndarray): The array to be \"aligned\".\n",
    "        \n",
    "    Returns:\n",
    "        np.ndarray\n",
    "        \n",
    "    \"\"\"\n",
    "    return np.remainder(np.round(c, 3), 1)"
   ]
  },
  {
   "cell_type": "code",
   "execution_count": 4,
   "id": "860464cf",
   "metadata": {
    "scrolled": false
   },
   "outputs": [],
   "source": [
    "def get_column_indices(s: Structure,\n",
    "                       cation_species: str) -> np.array:\n",
    "    \"\"\"Returns a NxM numpy array of site indices, where each row gives the\n",
    "    indices for the anions along one x, y, or z column within an input ReO3-type structure.\n",
    "    \n",
    "    \n",
    "    Args:\n",
    "        s (Structure): The input ReO3-type structure. Anions should be of species type \"X0+\".\n",
    "        cation_species (str): The species string identifying the cations (e.g., \"Ti\").\n",
    "        \n",
    "    Returns:\n",
    "        np.ndarray\n",
    "        \n",
    "    \"\"\"\n",
    "    cation_coords = align_coords(\n",
    "        np.vstack(\n",
    "            [site.frac_coords\n",
    "             for site in s.sites\n",
    "             if site.species_string==cation_species]\n",
    "        )\n",
    "    )\n",
    "    all_column_indices = []\n",
    "    axes=[0, 1, 2]\n",
    "    for d in axes[-1::-1]:\n",
    "        ad = np.array([a for a in axes if a!=d])\n",
    "        c = np.unique(cation_coords[:,ad], axis=0)\n",
    "        for cd in c:\n",
    "            column_indices = []\n",
    "            for i, site in enumerate(s.sites):\n",
    "                if site.species_string=='X0+':\n",
    "                    if np.all(align_coords(site.frac_coords[ad]) == cd):\n",
    "                        column_indices.append(i)\n",
    "            all_column_indices.append(column_indices)\n",
    "    return np.array(all_column_indices)"
   ]
  },
  {
   "cell_type": "code",
   "execution_count": 5,
   "id": "faa81b7a",
   "metadata": {},
   "outputs": [],
   "source": [
    "def random_OFFO_columns_from_structure(s: Structure,\n",
    "                                       cation_species: str = 'Ti',\n",
    "                                       majority_anion_species: str = 'F',\n",
    "                                       minority_anion_species: str = 'O'\n",
    "                                      ) -> Structure:\n",
    "    \"\"\"Takes an input ReO3-type pymatgen Structure and changes the anions to species\n",
    "    A and B, with only one anion in each x, y, and d column the minority anions species.\n",
    "    \n",
    "    Args:\n",
    "        s (Structure):  The input ReO3-type structure. Anions should be of species type \"X0+\".\n",
    "        cation_species (str): The species string identifying the cations (e.g., \"Ti\").\n",
    "        majority_anion_species (optional[str]): Species string for the majority anion species. Default is \"F\".\n",
    "        minority_anion_species (optional[str]): Species string for the minority anion species. Default is \"O\".\n",
    "        \n",
    "    Returns:\n",
    "        Structure\n",
    "        \n",
    "    \"\"\"\n",
    "    s_copy = s.copy()\n",
    "    x_indices = get_column_indices(s_copy, cation_species=cation_species)\n",
    "    o_indices = np.array([np.random.choice(column) for column in x_indices])\n",
    "    for site in s_copy.sites:\n",
    "        if site.species_string == 'X0+':\n",
    "            site.species = majority_anion_species\n",
    "        for i in o_indices:\n",
    "            s_copy[i].species = minority_anion_species\n",
    "    s_copy.sort()\n",
    "    return s_copy"
   ]
  },
  {
   "cell_type": "code",
   "execution_count": 6,
   "id": "8022da83",
   "metadata": {},
   "outputs": [],
   "source": [
    "for i in range(20):\n",
    "    filename = f'OFFO_{i+1:02d}.poscar'\n",
    "    OFFO_structure = random_OFFO_columns_from_structure(s)\n",
    "    OFFO_structure.to(fmt='poscar', filename=filename)"
   ]
  }
 ],
 "metadata": {
  "kernelspec": {
   "display_name": "Python 3 (ipykernel)",
   "language": "python",
   "name": "python3"
  },
  "language_info": {
   "codemirror_mode": {
    "name": "ipython",
    "version": 3
   },
   "file_extension": ".py",
   "mimetype": "text/x-python",
   "name": "python",
   "nbconvert_exporter": "python",
   "pygments_lexer": "ipython3",
   "version": "3.11.1"
  }
 },
 "nbformat": 4,
 "nbformat_minor": 5
}
